{
 "cells": [
  {
   "cell_type": "code",
   "execution_count": null,
   "id": "aacb6fa1-4cab-4965-911f-0bee8d9a8429",
   "metadata": {},
   "outputs": [],
   "source": [
    "%pip install pandas ipywidgets openpyxl"
   ]
  },
  {
   "cell_type": "code",
   "execution_count": null,
   "id": "f3baf700-f378-47d6-b993-2ec88a09b454",
   "metadata": {
    "vscode": {
     "languageId": "plaintext"
    }
   },
   "outputs": [],
   "source": [
    "import pandas as pd\n",
    "from ipywidgets import FileUpload, Button, VBox, Label\n",
    "from IPython.display import display\n",
    "from io import StringIO\n",
    "\n",
    "label1 = Label(\"📄 Selecione a Planilha 1 (antiga):\")\n",
    "upload1 = FileUpload(accept='.csv', multiple=False)\n",
    "\n",
    "label2 = Label(\"📄 Selecione a Planilha 2 (nova):\")\n",
    "upload2 = FileUpload(accept='.csv', multiple=False)\n",
    "\n",
    "button = Button(description=\"🔄 Gerar Planilha Final\", button_style='success')\n",
    "\n",
    "output_label = Label()\n",
    "\n",
    "def process_files(_):\n",
    "    if not upload1.value or not upload2.value:\n",
    "        output_label.value = \"⚠️ Selecione as duas planilhas antes de continuar!\"\n",
    "        return\n",
    "\n",
    "    # Ler CSVs enviados\n",
    "    file1 = list(upload1.value.values())[0]\n",
    "    file2 = list(upload2.value.values())[0]\n",
    "\n",
    "    df1 = pd.read_csv(StringIO(file1['content'].decode('utf-8')))\n",
    "    df2 = pd.read_csv(StringIO(file2['content'].decode('utf-8')))\n",
    "\n",
    "    # Garantir que as colunas são iguais\n",
    "    if not all(df1.columns == df2.columns):\n",
    "        output_label.value = \"❌ As planilhas devem ter as mesmas colunas!\"\n",
    "        return\n",
    "\n",
    "    # Mesclar dando prioridade à planilha 2 (a mais recente)\n",
    "    merged_df = pd.concat([df2, df1[~df1.apply(tuple, 1).isin(df2.apply(tuple, 1))]], ignore_index=True)\n",
    "\n",
    "    # Gerar arquivo final\n",
    "    merged_df.to_csv(\"planilha_final.csv\", index=False)\n",
    "\n",
    "    output_label.value = \"✅ Planilha final gerada com sucesso! Arquivo salvo como: planilha_final.csv\"\n",
    "\n",
    "# Ligar botão ao processamento\n",
    "button.on_click(process_files)\n",
    "\n",
    "# Mostrar interface\n",
    "display(VBox([label1, upload1, label2, upload2, button, output_label]))\n"
   ]
  }
 ],
 "metadata": {
  "kernelspec": {
   "display_name": "Python 3 (ipykernel)",
   "language": "python",
   "name": "python3"
  },
  "language_info": {
   "codemirror_mode": {
    "name": "ipython",
    "version": 3
   },
   "file_extension": ".py",
   "mimetype": "text/x-python",
   "name": "python",
   "nbconvert_exporter": "python",
   "pygments_lexer": "ipython3",
   "version": "3.14.0"
  }
 },
 "nbformat": 4,
 "nbformat_minor": 5
}
